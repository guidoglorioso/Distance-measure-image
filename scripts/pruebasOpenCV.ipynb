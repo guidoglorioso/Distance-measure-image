{
 "cells": [
  {
   "cell_type": "code",
   "execution_count": 1,
   "metadata": {},
   "outputs": [],
   "source": [
    "# imports\n",
    "import cv2\n",
    "import numpy as np"
   ]
  },
  {
   "cell_type": "code",
   "execution_count": 2,
   "metadata": {},
   "outputs": [],
   "source": [
    "# Cargar la imagen desde el archivo\n",
    "imagen = cv2.imread('.\\images\\img1.jpg')"
   ]
  },
  {
   "cell_type": "code",
   "execution_count": 3,
   "metadata": {},
   "outputs": [
    {
     "name": "stdout",
     "output_type": "stream",
     "text": [
      "<class 'numpy.ndarray'>\n",
      "(4032, 3024, 3)\n"
     ]
    }
   ],
   "source": [
    "#infor de la imagen\n",
    "\n",
    "print(type(imagen))\n",
    "print(imagen.shape)"
   ]
  },
  {
   "cell_type": "code",
   "execution_count": 4,
   "metadata": {},
   "outputs": [],
   "source": [
    "# Mostrar la imagen en una ventana\n",
    "cv2.imshow('Imagen', imagen)\n",
    "\n",
    "# Esperar a que se presione una tecla para cerrar la ventana\n",
    "cv2.waitKey(0)\n",
    "\n",
    "# Cerrar todas las ventanas abiertas\n",
    "cv2.destroyAllWindows()"
   ]
  },
  {
   "cell_type": "code",
   "execution_count": 12,
   "metadata": {},
   "outputs": [
    {
     "name": "stdout",
     "output_type": "stream",
     "text": [
      "12644\n"
     ]
    }
   ],
   "source": [
    "# Cargar la imagen desde el archivo\n",
    "imagen = cv2.imread('.\\images\\img1.jpg')\n",
    "\n",
    "# Convertir a espacio de color HSV\n",
    "hsv = cv2.cvtColor(imagen, cv2.COLOR_BGR2HSV)\n",
    "\n",
    "# Definir los límites del color rojo en el espacio HSV\n",
    "# Aquí estamos usando dos rangos porque el rojo está en dos partes del espectro de HSV\n",
    "limite_superior_negro = np.array([150, 150,45])\n",
    "limite_ingerior_negro = np.array([0, 0, 0])\n",
    "\n",
    "# Crear una máscara para los píxeles que caen dentro del rango de color rojo\n",
    "mascara= cv2.inRange(hsv, limite_ingerior_negro, limite_superior_negro)\n",
    "print(np.count_nonzero(mascara))\n",
    "\n",
    "\n"
   ]
  },
  {
   "cell_type": "code",
   "execution_count": 13,
   "metadata": {},
   "outputs": [],
   "source": [
    "\n",
    "# Aplicar la máscara a la imagen original\n",
    "resultado = cv2.bitwise_and(hsv, hsv, mask=mascara)\n",
    "\n",
    "# Mostrar la imagen original y la imagen con la detección de la línea roja\n",
    "# imagen_res = cv2.resize(imagen, (0, 0), fx=0.3, fy=0.3)\n",
    "# resultado_res = cv2.resize(resultado, (0, 0), fx=0.3, fy=0.3)\n",
    "# cv2.imshow('Imagen Original', imagen_res)\n",
    "# cv2.imshow('Linea Detectada', resultado_res)\n",
    "\n",
    "# cv2.waitKey(0)\n",
    "# cv2.destroyAllWindows()"
   ]
  },
  {
   "cell_type": "code",
   "execution_count": 25,
   "metadata": {},
   "outputs": [
    {
     "name": "stdout",
     "output_type": "stream",
     "text": [
      "[[[669.          1.6057029]]\n",
      "\n",
      " [[697.          1.6057029]]]\n"
     ]
    },
    {
     "ename": "ZeroDivisionError",
     "evalue": "division by zero",
     "output_type": "error",
     "traceback": [
      "\u001b[1;31m---------------------------------------------------------------------------\u001b[0m",
      "\u001b[1;31mZeroDivisionError\u001b[0m                         Traceback (most recent call last)",
      "Cell \u001b[1;32mIn[25], line 24\u001b[0m\n\u001b[0;32m     21\u001b[0m             i \u001b[38;5;241m+\u001b[39m\u001b[38;5;241m=\u001b[39m\u001b[38;5;241m1\u001b[39m\n\u001b[0;32m     23\u001b[0m     \u001b[38;5;66;03m# Promedia el ángulo si hay más de una línea\u001b[39;00m\n\u001b[1;32m---> 24\u001b[0m     \u001b[43mangulo\u001b[49m\u001b[43m \u001b[49m\u001b[38;5;241;43m/\u001b[39;49m\u001b[38;5;241;43m=\u001b[39;49m\u001b[43m \u001b[49m\u001b[43mi\u001b[49m\n\u001b[0;32m     26\u001b[0m \u001b[38;5;66;03m# Rota la imagen\u001b[39;00m\n\u001b[0;32m     27\u001b[0m alto, ancho,_ \u001b[38;5;241m=\u001b[39m imagen\u001b[38;5;241m.\u001b[39mshape\n",
      "\u001b[1;31mZeroDivisionError\u001b[0m: division by zero"
     ]
    }
   ],
   "source": [
    "\n",
    "# Aplica el detector de bordes\n",
    "bordes = cv2.Canny(imagen, 50, 150, apertureSize=3)\n",
    "#imagen_res = cv2.resize(bordes, (0, 0), fx=0.3, fy=0.3)\n",
    "#cv2.imshow('Linea Detectada', imagen_res)\n",
    "\n",
    "# cv2.waitKey(0)\n",
    "# cv2.destroyAllWindows()\n",
    "\n",
    "# Usa la Transformada de Hough para detectar líneas\n",
    "lineas = cv2.HoughLines(bordes, 1, np.pi / 180, 200)\n",
    "print(lineas)\n",
    "# Calcula el ángulo de rotación basado en las líneas detectadas\n",
    "angulo = 0\n",
    "i=0\n",
    "if lineas is not None:\n",
    "    for linea in lineas:\n",
    "        if len(linea) > 1:\n",
    "            rho, theta = linea[0], linea[1]\n",
    "            angulo_linea = np.degrees(theta) - 90\n",
    "            angulo += angulo_linea\n",
    "            i +=1\n",
    "    \n",
    "    # Promedia el ángulo si hay más de una línea\n",
    "    angulo /= i\n",
    "\n",
    "# Rota la imagen\n",
    "alto, ancho,_ = imagen.shape\n",
    "centro = (ancho // 2, alto // 2)\n",
    "matriz_rotacion = cv2.getRotationMatrix2D(centro, angulo, 1.0)\n",
    "imagen_rotada = cv2.warpAffine(imagen, matriz_rotacion, (ancho, alto), flags=cv2.INTER_CUBIC)\n",
    "\n",
    "# Guarda la imagen rotada\n",
    "cv2.imwrite('imagen_rotada.jpg', imagen_rotada)\n"
   ]
  },
  {
   "cell_type": "code",
   "execution_count": 7,
   "metadata": {},
   "outputs": [],
   "source": [
    "# Aplica el detector de bordes\n",
    "bordes = cv2.Canny(imagen, 50, 150, apertureSize=3)\n",
    "\n",
    "# Usa la Transformada de Hough para detectar líneas\n",
    "lineas = cv2.HoughLines(bordes, 1, np.pi / 180, 200)\n",
    "\n",
    "# Calcula el ángulo de rotación basado en las líneas detectadas\n",
    "angulo = 0\n",
    "if lineas is not None:\n",
    "    for linea in lineas:\n",
    "        rho, theta = linea[0]\n",
    "        angulo_linea = np.degrees(theta) - 90\n",
    "        angulo += angulo_linea\n",
    "    \n",
    "    # Promedia el ángulo si hay más de una línea\n",
    "    angulo /= len(lineas)\n",
    "\n",
    "# Rota la imagen\n",
    "alto, ancho,_ = imagen.shape\n",
    "centro = (ancho // 2, alto // 2)\n",
    "matriz_rotacion = cv2.getRotationMatrix2D(centro, angulo, 1.0)\n",
    "imagen_rotada = cv2.warpAffine(imagen, matriz_rotacion, (ancho, alto), flags=cv2.INTER_CUBIC)\n",
    "\n",
    "# Guarda la imagen rotada\n",
    "cv2.imwrite('imagen_rotada.jpg', imagen_rotada)\n",
    "\n",
    "cv2.waitKey(0)\n",
    "cv2.destroyAllWindows()"
   ]
  }
 ],
 "metadata": {
  "kernelspec": {
   "display_name": ".venv",
   "language": "python",
   "name": "python3"
  },
  "language_info": {
   "codemirror_mode": {
    "name": "ipython",
    "version": 3
   },
   "file_extension": ".py",
   "mimetype": "text/x-python",
   "name": "python",
   "nbconvert_exporter": "python",
   "pygments_lexer": "ipython3",
   "version": "3.11.2"
  }
 },
 "nbformat": 4,
 "nbformat_minor": 2
}
